{
 "cells": [
  {
   "cell_type": "markdown",
   "metadata": {},
   "source": [
    "# SICP Exercise 1.13"
   ]
  },
  {
   "cell_type": "markdown",
   "metadata": {},
   "source": [
    "Prove that $\\textrm{Fib}(n)$ is the closest integer to $\\phi^n/\\sqrt5,$ where $\\phi = (1+\\sqrt5)/2.$ Hint: Let $\\psi = (1-\\sqrt5)/2.$ Use induction and the definition of the Fibonacci numbers to prove that $\\textrm{Fib}(n) = (\\phi^n - \\psi^n)/\\sqrt5.$"
   ]
  },
  {
   "cell_type": "markdown",
   "metadata": {},
   "source": [
    "## Solution"
   ]
  },
  {
   "cell_type": "markdown",
   "metadata": {},
   "source": [
    "First: Notice the following properties of $\\phi$ and $\\psi$.\n",
    "\n",
    "**Property 1:** $\\phi^2 - \\phi - 1 = 0$ and $\\psi^2 - \\psi - 1 = 0$\n",
    "\n",
    "**Property 2:** $\\phi\\psi = -1$ and $\\phi^2\\psi^2 = 1$"
   ]
  },
  {
   "cell_type": "markdown",
   "metadata": {},
   "source": [
    "First, we check that the hypothesis is true for the base cases $n=0$ and $n=1$.\n",
    "\n",
    "$\\mathrm{Fib}(0) = (\\phi^0-\\psi^0)/\\sqrt5 = 0$ \n",
    "\n",
    "and \n",
    "\n",
    "$\\mathrm{Fib}(1) = (\\phi^1-\\psi^1)/\\sqrt5 = 1$"
   ]
  },
  {
   "cell_type": "markdown",
   "metadata": {},
   "source": [
    "Now, assuming that \n",
    "\n",
    "$\\mathrm{Fib}(n-1) = (\\phi^{n-1} - \\psi^{n-1})/\\sqrt5$ \n",
    "\n",
    "and\n",
    "\n",
    "$\\mathrm{Fib}(n-2) = (\\phi^{n-2} - \\psi^{n-2})/\\sqrt5$ \n",
    "\n",
    "we need to show that \n",
    "\n",
    "$\\mathrm{Fib}(n) = (\\phi^{n} - \\psi^{n})/\\sqrt5$."
   ]
  },
  {
   "cell_type": "markdown",
   "metadata": {},
   "source": [
    "By the definition of the Fibonaci numbers\n",
    "\n",
    "$\\mathrm{Fib}(n) = \\mathrm{Fib}(n-1) + \\mathrm{Fib}(n-2)$.\n",
    "\n",
    "Insert the induction assumptions:\n",
    "\n",
    "$\\mathrm{Fib}(n) = (\\phi^{n-1} - \\psi^{n-1})/\\sqrt5 + (\\phi^{n-2} - \\psi^{n-2})/\\sqrt5 = (\\phi^{n-1} - \\psi^{n-1} + \\phi^{n-2} - \\psi^{n-2})/\\sqrt5$"
   ]
  },
  {
   "cell_type": "markdown",
   "metadata": {},
   "source": [
    "Use **property 1** from above to simplify the expression."
   ]
  },
  {
   "cell_type": "markdown",
   "metadata": {},
   "source": [
    "$ \\phi^{n-1} - \\psi^{n-1} + \\phi^{n-2} - \\psi^{n-2} = -\\phi\\psi\\phi^{n-1} + \\phi\\psi\\psi^{n-1} + \\phi^2\\psi^2\\phi^{n-2} - \\phi^2\\psi^2\\psi^{n-2} = -\\psi\\phi^n + \\phi\\psi^n + \\psi^2\\phi^n - \\phi^2\\psi^n$"
   ]
  },
  {
   "cell_type": "markdown",
   "metadata": {},
   "source": [
    "Factor out $\\phi^n$ and $\\psi^n$.\n",
    "\n",
    "$ = \\phi^n(\\psi^2 - \\psi) - \\psi^2(\\phi^2 - \\phi) $"
   ]
  },
  {
   "cell_type": "markdown",
   "metadata": {},
   "source": [
    "Use **property 2** to get \n",
    "\n",
    "$ = \\phi^n - \\psi^n$."
   ]
  },
  {
   "cell_type": "markdown",
   "metadata": {},
   "source": [
    "Insert into the expression for $\\mathrm{Fib}(n)$ from above to get\n",
    "\n",
    "$ \\mathrm{Fib}(n) = (\\phi^n - \\psi^n)/\\sqrt5 $."
   ]
  },
  {
   "cell_type": "markdown",
   "metadata": {},
   "source": [
    "Since the hypothesis holds for $\\mathrm{Fib}(n)$ given that it holds for $\\mathrm{Fib}(n-1)$ and $\\mathrm{Fib}(n-2)$, and we have shown that it holds true for $\\mathrm{Fib}(0)$ and $\\mathrm{Fib}(1)$, by induction the hypothesis holds for any $n \\ge 0$."
   ]
  },
  {
   "cell_type": "markdown",
   "metadata": {},
   "source": [
    "**Second part of the proof**\n",
    "\n",
    "We have shown that \n",
    "\n",
    "$\\mathrm{Fib}(n) = (\\phi^n - \\psi^n)/\\sqrt5,$ \n",
    "\n",
    "but it remains to show that the following is also true: $\\mathrm{Fib}(n)$ is the closest integer to $\\phi^n/\\sqrt5.$\n"
   ]
  },
  {
   "cell_type": "markdown",
   "metadata": {},
   "source": [
    "We know that $\\mathrm{Fib}(n)$ is integer.\n",
    "\n",
    "Since $-1 < \\psi < 1$ we also know that $\\psi^n/\\sqrt5 < 0.5$ for all $n \\ge 0$.\n",
    "\n",
    "Together these two facts imply that \n",
    "\n",
    "$\\mathrm{round}(\\phi^n/\\sqrt5 - \\psi^n/\\sqrt5) = \\mathrm{round}(\\phi^n/\\sqrt5)$ for $n \\ge 0$."
   ]
  },
  {
   "cell_type": "markdown",
   "metadata": {},
   "source": [
    "Thus \n",
    "\n",
    "$\\mathrm{Fib}(n) = \\phi^n/\\sqrt5 - \\psi^n/\\sqrt5 = \\mathrm{round}(\\phi^n/\\sqrt5 - \\psi^n/\\sqrt5) = \\mathrm{round}(\\phi^n/\\sqrt5)$\n",
    "\n",
    "which is what we wanted to prove."
   ]
  }
 ],
 "metadata": {
  "anaconda-cloud": {},
  "kernelspec": {
   "display_name": "Python [conda root]",
   "language": "python",
   "name": "conda-root-py"
  },
  "language_info": {
   "codemirror_mode": {
    "name": "ipython",
    "version": 3
   },
   "file_extension": ".py",
   "mimetype": "text/x-python",
   "name": "python",
   "nbconvert_exporter": "python",
   "pygments_lexer": "ipython3",
   "version": "3.5.2"
  }
 },
 "nbformat": 4,
 "nbformat_minor": 1
}
